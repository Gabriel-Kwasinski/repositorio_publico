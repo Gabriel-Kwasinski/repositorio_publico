{
  "nbformat": 4,
  "nbformat_minor": 0,
  "metadata": {
    "colab": {
      "provenance": [],
      "collapsed_sections": [],
      "authorship_tag": "ABX9TyMLw7RteDweJ085GsuVvkGU",
      "include_colab_link": true
    },
    "kernelspec": {
      "name": "python3",
      "display_name": "Python 3"
    },
    "language_info": {
      "name": "python"
    }
  },
  "cells": [
    {
      "cell_type": "markdown",
      "metadata": {
        "id": "view-in-github",
        "colab_type": "text"
      },
      "source": [
        "<a href=\"https://colab.research.google.com/github/Gabriel-Kwasinski/repositorio_publico/blob/main/Gabriel_Sa_Earp_2211325_Lista3.ipynb\" target=\"_parent\"><img src=\"https://colab.research.google.com/assets/colab-badge.svg\" alt=\"Open In Colab\"/></a>"
      ]
    },
    {
      "cell_type": "code",
      "execution_count": 339,
      "metadata": {
        "id": "tNoCCmsIqOEf"
      },
      "outputs": [],
      "source": [
        "import pandas as pd\n",
        "import os"
      ]
    },
    {
      "cell_type": "code",
      "source": [
        "data = pd.read_csv(\"/content/class_titanic.csv\")"
      ],
      "metadata": {
        "id": "NUNSV4SEqcgR"
      },
      "execution_count": 340,
      "outputs": []
    },
    {
      "cell_type": "code",
      "source": [
        "#Escolha uma coluna com valores numéricos e apague todas as linhas que possuam valor nulo\n",
        "data[\"Age\"].dropna(inplace = True)"
      ],
      "metadata": {
        "id": "kCEvmSwNuTcH"
      },
      "execution_count": 341,
      "outputs": []
    },
    {
      "cell_type": "code",
      "source": [
        "#Calcule a média desta mesma coluna\n",
        "average_age = data[\"Age\"].mean()\n",
        "print(average_age)"
      ],
      "metadata": {
        "id": "NSt1b8oVvib6"
      },
      "execution_count": null,
      "outputs": []
    },
    {
      "cell_type": "code",
      "source": [
        "#Escolha um critério para eliminar as linhas que possuam valores muito distantes da média e crie um novo Dataframe.\n",
        "#Critério: idades com uma diferença de mais de dez anos da idade média\n",
        "data = data.loc[(data['Age'] > (average_age - 10)) & (data['Age'] < (average_age + 10))]"
      ],
      "metadata": {
        "id": "9EwjIVQkxrpZ"
      },
      "execution_count": 334,
      "outputs": []
    },
    {
      "cell_type": "code",
      "source": [
        "#Crie um novo Dataframe que contenha apenas 5 colunas do conjunto anterior.\n",
        "new = data\n",
        "new.reset_index(inplace=True)\n",
        "new = new.loc[0:4, :]"
      ],
      "metadata": {
        "id": "-7U7pKCj6L-S"
      },
      "execution_count": 335,
      "outputs": []
    },
    {
      "cell_type": "code",
      "source": [
        "#Escolha duas colunas numéricas e crie uma nova coluna que siga a regra:\n",
        "#(Coluna A - Coluna B)*número aleatório (entre 0 e 1).\n",
        "\n",
        "import random\n",
        "random_n = random.randrange(0,10)\n",
        "random_n = random_n/10\n",
        "\n",
        "def criteria(row):\n",
        "  return (row[\"Age\"] + row[\"Survived\"])*random_n\n",
        "\n",
        "new['NewColumn'] = new.apply(lambda row: criteria(row), axis=1)\n"
      ],
      "metadata": {
        "id": "v_QIynoENTzp"
      },
      "execution_count": null,
      "outputs": []
    },
    {
      "cell_type": "code",
      "source": [
        "#Embaralhe aleatoriamente o dataframe (índices e valores).\n",
        "new = new.sample(frac = 1, random_state = 1).reset_index\n",
        "display(new)"
      ],
      "metadata": {
        "colab": {
          "base_uri": "https://localhost:8080/",
          "height": 156
        },
        "id": "Mmx-zMGZQest",
        "outputId": "b9606cb8-bb8d-4af4-9c57-6b6a39d05866"
      },
      "execution_count": 337,
      "outputs": [
        {
          "output_type": "display_data",
          "data": {
            "text/plain": [
              "<bound method DataFrame.reset_index of    index  PassengerId  Pclass  ... Embarked Survived  NewColumn\n",
              "2      2            3       3  ...        S        1        2.7\n",
              "1      1            2       1  ...        C        1        3.9\n",
              "4      4            5       3  ...        S        0        3.5\n",
              "0      0            1       3  ...        S        0        2.2\n",
              "3      3            4       1  ...        S        1        3.6\n",
              "\n",
              "[5 rows x 14 columns]>"
            ]
          },
          "metadata": {}
        }
      ]
    },
    {
      "cell_type": "code",
      "source": [
        "#Escolha uma coluna numérica e um coluna com strings e utilize a função Groupby para mostrar os totais da  coluna.\n",
        "grouped_data = new.groupby(\"Embarked\")[\"Survived\"].count()\n"
      ],
      "metadata": {
        "id": "X1KpKmX7T8Mc"
      },
      "execution_count": null,
      "outputs": []
    },
    {
      "cell_type": "code",
      "source": [
        "#Utilize a função MAPS para fazer algum tipo de substituição no Dataframe (explique)\n",
        "\n",
        "def replace_newcolumn(x):\n",
        "  return x*10\n",
        "\n",
        "new['NewColumn'] = new['NewColumn'].map(lambda x: replace_newcolumn(x))\n"
      ],
      "metadata": {
        "id": "xWyYkAJfWDjX"
      },
      "execution_count": 343,
      "outputs": []
    },
    {
      "cell_type": "code",
      "source": [
        "#df.to_csv('file_name.csv')\n",
        "new.to_csv('new_dataframe.csv')"
      ],
      "metadata": {
        "id": "cU6EyvreaSzJ"
      },
      "execution_count": 343,
      "outputs": []
    }
  ]
}