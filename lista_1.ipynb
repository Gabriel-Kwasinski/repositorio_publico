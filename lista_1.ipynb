{
  "nbformat": 4,
  "nbformat_minor": 0,
  "metadata": {
    "colab": {
      "name": "lista_1.ipynb",
      "provenance": [],
      "collapsed_sections": [],
      "include_colab_link": true
    },
    "kernelspec": {
      "name": "python3",
      "display_name": "Python 3"
    },
    "language_info": {
      "name": "python"
    }
  },
  "cells": [
    {
      "cell_type": "markdown",
      "metadata": {
        "id": "view-in-github",
        "colab_type": "text"
      },
      "source": [
        "<a href=\"https://colab.research.google.com/github/Gabriel-Kwasinski/repositorio_publico/blob/main/lista_1.ipynb\" target=\"_parent\"><img src=\"https://colab.research.google.com/assets/colab-badge.svg\" alt=\"Open In Colab\"/></a>"
      ]
    },
    {
      "cell_type": "code",
      "execution_count": null,
      "metadata": {
        "id": "faGqsfkeyEJA"
      },
      "outputs": [],
      "source": []
    },
    {
      "cell_type": "markdown",
      "source": [
        "# Lista 1 (Listas, Dicionários, JSON)\n",
        "\n"
      ],
      "metadata": {
        "id": "J2_sDP8w0th-"
      }
    },
    {
      "cell_type": "markdown",
      "source": [
        "# 1)\n",
        "\n",
        "Crie uma função que receba como argumento uma lista de inteiros e strings e:\n",
        "\n",
        "\n",
        "\n",
        "\n",
        "1. Retorne um dicionário onde cada par chave-valor são respectivamente a string deletada e a quantidade de vezes que a string foi removida na lista\n",
        " \n",
        "\n",
        "\n",
        "\n",
        "ex: lista de entrada [8 ,6 ,'d' ,'f' , 10 ,'d', 45, 'g', 'g', 12]\n",
        "\n",
        "###    saída da função: {'d':2,'f':1,'g':2} \n",
        "\n",
        "Utilize a função isistance()"
      ],
      "metadata": {
        "id": "RtqIELby09f4"
      }
    },
    {
      "cell_type": "code",
      "source": [
        "from collections import Counter\n",
        "\n",
        "def monta_dicionario(lista):\n",
        "    removidos = []\n",
        "    for i in lista:\n",
        "        if isinstance(i, str):\n",
        "            removidos.append(i)\n",
        "    dicionario = Counter(removidos)\n",
        "    dicionario = dict(dicionario)\n",
        "    return dicionario\n"
      ],
      "metadata": {
        "id": "3mVDadsjklXM"
      },
      "execution_count": 20,
      "outputs": []
    },
    {
      "cell_type": "markdown",
      "source": [
        "# 2)\n",
        "\n",
        "Crie uma função que receba uma lista de strings e retone uma nova lista seguindo os critérios abaixo:\n",
        "\n",
        "1 - Strings maiores que 5 caracteres devem ser removidas da nova lista\n",
        "2 - Strings que contenham a letra \"a\" deve ser substituídas pelo número de caracteres da string.\n",
        "\n",
        "\n",
        "Ex:\n",
        "\n",
        "Lista de entrada: ['testando','bolo','amor','caramelo']\n",
        "\n",
        "Saída: ['bolo',4,8]"
      ],
      "metadata": {
        "id": "zV6jpBXP5Y6b"
      }
    },
    {
      "cell_type": "code",
      "source": [
        "def edit_list(string_list):\n",
        "  for i in string_list:\n",
        "    if len(i) > 5:\n",
        "      string_list.remove(i)\n",
        "    elif \"a\" in i:\n",
        "      string_list[string_list.index(i)] = len(i)\n",
        "  return string_list\n"
      ],
      "metadata": {
        "id": "AkaH-CdkK-HN"
      },
      "execution_count": null,
      "outputs": []
    },
    {
      "cell_type": "markdown",
      "source": [
        "# 3)\n",
        "\n",
        "Crie uma função que receba duas listas e retorne um set com a união (operação de conjunto)"
      ],
      "metadata": {
        "id": "da8lQ_eXRtsz"
      }
    },
    {
      "cell_type": "code",
      "source": [
        "def union_lists(list1, list2):\n",
        "  new_list = []\n",
        "  for i in list1:\n",
        "    new_list.append(i)\n",
        "    if i in list2:\n",
        "      list2.remove(i)\n",
        "  for j in list2:\n",
        "     new_list.append(j)\n",
        "  return new_list\n",
        "\n",
        "list1 = [\"a\",\"b\",\"c\"]\n",
        "list2 = [\"d\",\"a\",\"e\",\"b\",\"f\",\"g\"]\n",
        "print(union_lists(list1, list2))\n",
        "\n"
      ],
      "metadata": {
        "id": "VLKbc5tjTXWP",
        "colab": {
          "base_uri": "https://localhost:8080/"
        },
        "outputId": "4c7f9123-e986-4302-844f-9121af490c6b"
      },
      "execution_count": 8,
      "outputs": [
        {
          "output_type": "stream",
          "name": "stdout",
          "text": [
            "['a', 'b', 'c', 'd', 'e', 'f', 'g']\n"
          ]
        }
      ]
    },
    {
      "cell_type": "markdown",
      "source": [
        "## 4)\n",
        "\n",
        "Crie um programa que dado um arquivo JSON disponível na internet, converta para um dicionário Python com os primeiros 100 registros.\n",
        "\n",
        "O arquivo JSON está disponível em:\n",
        "\n",
        "https://raw.githubusercontent.com/prust/wikipedia-movie-data/master/movies.json\n",
        "\n",
        "\n"
      ],
      "metadata": {
        "id": "_MddJv9fTY_1"
      }
    },
    {
      "cell_type": "code",
      "source": [
        "from urllib.request import urlopen\n",
        "import json\n",
        "\n",
        "url = \"https://raw.githubusercontent.com/prust/wikipedia-movie-data/master/movies.json\"\n",
        "data = urlopen(url)\n",
        "\n",
        "data_as_json = json.loads(data.read())\n",
        "new_dictyonary = []\n",
        "\n",
        "i = 0\n",
        "while i < 100:\n",
        "  new_dictyonary.append(data_as_json[i])\n",
        "  i += 1"
      ],
      "metadata": {
        "id": "Pry3oTcYgi3H"
      },
      "execution_count": null,
      "outputs": []
    },
    {
      "cell_type": "markdown",
      "source": [
        "# 5)\n",
        "\n",
        "Crie um programa que gere um arquivo JSON utilizando o dicionário do exercício anterior."
      ],
      "metadata": {
        "id": "FZl-0CzcWYbV"
      }
    },
    {
      "cell_type": "code",
      "source": [
        "import json\n",
        "\n",
        "json_dict = new_dictyonary\n",
        "json.dumps(json_dict)\n"
      ],
      "metadata": {
        "id": "cygxCeqPh-7z"
      },
      "execution_count": null,
      "outputs": []
    }
  ]
}